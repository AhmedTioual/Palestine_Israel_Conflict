{
 "cells": [
  {
   "cell_type": "code",
   "execution_count": 1,
   "metadata": {},
   "outputs": [],
   "source": [
    "import requests\n",
    "import zipfile\n",
    "import io\n",
    "import shutil\n",
    "import pandas as pd"
   ]
  },
  {
   "cell_type": "code",
   "execution_count": 2,
   "metadata": {},
   "outputs": [],
   "source": [
    "try:\n",
    "    url = \"https://api.unhcr.org/population/v1/unrwa/?limit=20&dataset=unrwa&displayType=totals&columns%5B%5D=refugees&columns%5B%5D=asylum_seekers&columns%5B%5D=idps&columns%5B%5D=oip&columns%5B%5D=stateless&columns%5B%5D=hst&columns%5B%5D=ooc&yearFrom=1951&yearTo=2023&coo_all=true&coa_all=true&download=true\"\n",
    "\n",
    "    response = requests.get(url)\n",
    "    z = zipfile.ZipFile(io.BytesIO(response.content))\n",
    "    \n",
    "    # Extract CSV file and load it into a DataFrame\n",
    "    df = pd.read_csv(z.open(\"unrwa.csv\"), skiprows=14)\n",
    "    \n",
    "    new_location = \"C:\\\\Users\\\\tioua\\\\OneDrive\\\\Desktop\\\\BI PROJECT\\\\Data\\\\NumberOfPalestinianRefugees\"\n",
    "    \n",
    "    # Save the modified DataFrame to a new CSV file\n",
    "    df.to_csv(new_location + \"\\\\unrwa.csv\", index=False)\n",
    "    \n",
    "    status = True\n",
    "except Exception as e:\n",
    "    print(f\"An error occurred: {e}\")\n",
    "    status = False"
   ]
  }
 ],
 "metadata": {
  "kernelspec": {
   "display_name": "Python 3",
   "language": "python",
   "name": "python3"
  },
  "language_info": {
   "codemirror_mode": {
    "name": "ipython",
    "version": 3
   },
   "file_extension": ".py",
   "mimetype": "text/x-python",
   "name": "python",
   "nbconvert_exporter": "python",
   "pygments_lexer": "ipython3",
   "version": "3.11.5"
  }
 },
 "nbformat": 4,
 "nbformat_minor": 2
}

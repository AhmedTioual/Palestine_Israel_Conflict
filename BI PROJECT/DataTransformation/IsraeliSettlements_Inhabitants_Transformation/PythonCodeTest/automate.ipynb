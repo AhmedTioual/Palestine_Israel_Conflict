{
 "cells": [
  {
   "cell_type": "code",
   "execution_count": 1,
   "metadata": {},
   "outputs": [],
   "source": [
    "import requests\n",
    "import time\n",
    "import os\n",
    "import re\n",
    "from concurrent.futures import ThreadPoolExecutor, as_completed\n",
    "from processed_data import process_population_data, save_to_excel"
   ]
  },
  {
   "cell_type": "code",
   "execution_count": 5,
   "metadata": {},
   "outputs": [],
   "source": [
    "def get_years():\n",
    "    try:\n",
    "        # Sending POST request\n",
    "        response = requests.post(\"https://boardsgenerator.cbs.gov.il/Handlers/WebParts/YishuvimHandler.ashx?dataMode=Yeshuv&language=English&mode=Filters&subject=Population\")\n",
    "\n",
    "        # Check if the request was successful (status code 200)\n",
    "        if response.status_code == 200:\n",
    "            # Parse and return the JSON response\n",
    "            return response.json()\n",
    "        else:\n",
    "            print(f\"Error: {response.status_code} - {response.text}\")\n",
    "            return None\n",
    "\n",
    "    except requests.RequestException as e:\n",
    "        print(f\"Request error: {e}\")\n",
    "        return None"
   ]
  },
  {
   "cell_type": "code",
   "execution_count": 6,
   "metadata": {},
   "outputs": [],
   "source": [
    "years = get_years()[\"Years\"]\n",
    "years.reverse()"
   ]
  },
  {
   "cell_type": "code",
   "execution_count": 7,
   "metadata": {},
   "outputs": [
    {
     "data": {
      "text/plain": [
       "[2009, 2010, 2011, 2012, 2013, 2014, 2015, 2016, 2017, 2018, 2019, 2020, 2021]"
      ]
     },
     "execution_count": 7,
     "metadata": {},
     "output_type": "execute_result"
    }
   ],
   "source": [
    "years"
   ]
  },
  {
   "cell_type": "code",
   "execution_count": 5,
   "metadata": {},
   "outputs": [],
   "source": [
    "def get_token(year):\n",
    "    try:\n",
    "        headers = {\n",
    "            \"Content-Type\": \"application/x-www-form-urlencoded\",\n",
    "        }\n",
    "\n",
    "        data = {\n",
    "            \"mode\": \"excel\",\n",
    "            \"drillDownMode\": \"undefined\",\n",
    "            \"board\": \"WebPartYishuvim\",\n",
    "            \"query\": '{\"mode\":\"GridData\",\"dataMode\":\"Yeshuv\",\"subject\":\"Population\",\"filters\":{\"Years\":'+str(year)+'},\"filtersearch\":\"\",\"pageNumber\":1,\"search\":\"\",\"language\":\"English\"}',\n",
    "            \"filters\": \"\",\n",
    "            \"cartDataImage\": \"\",\n",
    "            \"cartDataImageOnly\": \"undefined\",\n",
    "            \"lang\": \"English\",\n",
    "        }\n",
    "\n",
    "        token_response = requests.post(\"https://boardsgenerator.cbs.gov.il/Handlers/General/ExportData.ashx\", headers=headers, data=data)\n",
    "\n",
    "        # Check the response\n",
    "        if token_response.status_code == 200:\n",
    "            return token_response.text\n",
    "        else:\n",
    "            return None\n",
    "    except : \n",
    "        print(\"Token Error\")"
   ]
  },
  {
   "cell_type": "code",
   "execution_count": 6,
   "metadata": {},
   "outputs": [],
   "source": [
    "def get_file_size(file_content): return len(file_content.content) / 1024"
   ]
  },
  {
   "cell_type": "code",
   "execution_count": 7,
   "metadata": {},
   "outputs": [],
   "source": [
    "def automateExtractionData(year, max_retries=5):\n",
    "    try:\n",
    "        headers = {'User-Agent': 'Mozilla/5.0 (Windows NT 10.0; Win64; x64; rv:120.0) Gecko/20100101 Firefox/120.0'}\n",
    "        \n",
    "        # Retry the request up to max_retries times\n",
    "        for retry_count in range(max_retries):\n",
    "            download_response = requests.get('https://boardsgenerator.cbs.gov.il/Handlers/General/Downloader.ashx?type=excel&token='+get_token(year), headers=headers)\n",
    "            \n",
    "            if download_response.status_code == 200 and download_response.content and get_file_size(download_response) > 3: \n",
    "                # Save the downloaded file\n",
    "                new_location = \"C:\\\\Users\\\\tioua\\\\OneDrive\\\\Desktop\\\\BI PROJECT\\\\Data\\\\NumberOfInhabitants\"\n",
    "                file_path = f'{new_location}\\\\data_{year}.xlsx'\n",
    "                with open(file_path, 'wb') as file:\n",
    "                    file.write(download_response.content)\n",
    "                print(f'Data for year {year} downloaded successfully')\n",
    "                return True\n",
    "            else:\n",
    "                print(f'Failed to download data for year {year}. Retrying...')\n",
    "                time.sleep(5)  # Add a short delay before retrying\n",
    "\n",
    "        print(f'Exceeded maximum retry attempts for year {year}.')\n",
    "        return False\n",
    "\n",
    "    except Exception as e:\n",
    "        print(f'Extraction Error: {e}')\n",
    "        return False"
   ]
  },
  {
   "cell_type": "code",
   "execution_count": 8,
   "metadata": {},
   "outputs": [],
   "source": [
    "def automateExtractionData_parallel(year_start,year_end):\n",
    "    try:\n",
    "        with ThreadPoolExecutor(max_workers=5) as executor:\n",
    "            # Use list comprehension to submit tasks to the ThreadPoolExecutor\n",
    "            tasks = [executor.submit(automateExtractionData, year) for year in range(year_start,year_end+1)]\n",
    "            \n",
    "            # Collect results\n",
    "            results = [task.result() for task in as_completed(tasks)]\n",
    "            time.sleep(2)\n",
    "            # Iterate through results and print a summary\n",
    "            for success, year_result in results:\n",
    "                if success:\n",
    "                    print(f'Data for year {year_result} downloaded successfully')\n",
    "                else:\n",
    "                    print(f'Failed to download data for year {year_result}')\n",
    "\n",
    "    except Exception as e:\n",
    "        print(f\"Error: {e}\")"
   ]
  },
  {
   "cell_type": "code",
   "execution_count": null,
   "metadata": {},
   "outputs": [],
   "source": [
    "#Execute code : \n",
    "automateExtractionData_parallel(years[0],years[len(years)-1])"
   ]
  },
  {
   "cell_type": "code",
   "execution_count": 2,
   "metadata": {},
   "outputs": [],
   "source": [
    "def append_all_excel_files():\n",
    "    data_directory = \"C:\\\\Users\\\\tioua\\\\OneDrive\\\\Desktop\\\\BI PROJECT\\\\Data\\\\NumberOfInhabitants\"\n",
    "    files = os.listdir(data_directory)\n",
    "    for file in files : \n",
    "        file_path = data_directory+\"\\\\\"+file\n",
    "        year = int(re.search(r'\\d{4}',file).group())\n",
    "        save_to_excel(data_frame=process_population_data(file_path,year))\n",
    "        time.sleep(1)"
   ]
  },
  {
   "cell_type": "code",
   "execution_count": 3,
   "metadata": {},
   "outputs": [
    {
     "name": "stdout",
     "output_type": "stream",
     "text": [
      "Data appended successfully.\n",
      "Data appended successfully.\n",
      "Data appended successfully.\n",
      "Data appended successfully.\n",
      "Data appended successfully.\n",
      "Data appended successfully.\n",
      "Data appended successfully.\n",
      "Data appended successfully.\n",
      "Data appended successfully.\n",
      "Data appended successfully.\n",
      "Data appended successfully.\n",
      "Data appended successfully.\n",
      "Data appended successfully.\n"
     ]
    }
   ],
   "source": [
    "append_all_excel_files()"
   ]
  },
  {
   "cell_type": "code",
   "execution_count": 45,
   "metadata": {},
   "outputs": [
    {
     "data": {
      "text/plain": [
       "2021"
      ]
     },
     "execution_count": 45,
     "metadata": {},
     "output_type": "execute_result"
    }
   ],
   "source": []
  },
  {
   "cell_type": "code",
   "execution_count": null,
   "metadata": {},
   "outputs": [],
   "source": []
  }
 ],
 "metadata": {
  "kernelspec": {
   "display_name": "Python 3",
   "language": "python",
   "name": "python3"
  },
  "language_info": {
   "codemirror_mode": {
    "name": "ipython",
    "version": 3
   },
   "file_extension": ".py",
   "mimetype": "text/x-python",
   "name": "python",
   "nbconvert_exporter": "python",
   "pygments_lexer": "ipython3",
   "version": "3.11.5"
  }
 },
 "nbformat": 4,
 "nbformat_minor": 2
}

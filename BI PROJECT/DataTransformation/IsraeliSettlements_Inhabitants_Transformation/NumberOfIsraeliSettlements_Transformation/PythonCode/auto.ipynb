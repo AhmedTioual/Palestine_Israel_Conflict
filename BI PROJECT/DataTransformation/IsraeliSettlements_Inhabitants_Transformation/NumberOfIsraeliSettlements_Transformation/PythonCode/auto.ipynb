{
 "cells": [
  {
   "cell_type": "code",
   "execution_count": 46,
   "metadata": {},
   "outputs": [],
   "source": [
    "import requests\n",
    "import time\n",
    "import shutil"
   ]
  },
  {
   "cell_type": "code",
   "execution_count": 47,
   "metadata": {},
   "outputs": [],
   "source": [
    "def get_years():\n",
    "    try:\n",
    "        # Sending POST request\n",
    "        response = requests.post(\"https://boardsgenerator.cbs.gov.il/Handlers/WebParts/YishuvimHandler.ashx?dataMode=Yeshuv&language=English&mode=Filters&subject=Population\")\n",
    "\n",
    "        # Check if the request was successful (status code 200)\n",
    "        if response.status_code == 200:\n",
    "            # Parse and return the JSON response\n",
    "            return response.json()\n",
    "        else:\n",
    "            print(f\"Error: {response.status_code} - {response.text}\")\n",
    "            return None\n",
    "\n",
    "    except requests.RequestException as e:\n",
    "        print(f\"Request error: {e}\")\n",
    "        return None"
   ]
  },
  {
   "cell_type": "code",
   "execution_count": 48,
   "metadata": {},
   "outputs": [
    {
     "name": "stdout",
     "output_type": "stream",
     "text": [
      "Request error: HTTPSConnectionPool(host='boardsgenerator.cbs.gov.il', port=443): Max retries exceeded with url: /Handlers/WebParts/YishuvimHandler.ashx?dataMode=Yeshuv&language=English&mode=Filters&subject=Population (Caused by ConnectTimeoutError(<urllib3.connection.HTTPSConnection object at 0x000002907192F510>, 'Connection to boardsgenerator.cbs.gov.il timed out. (connect timeout=None)'))\n"
     ]
    },
    {
     "ename": "TypeError",
     "evalue": "'NoneType' object is not subscriptable",
     "output_type": "error",
     "traceback": [
      "\u001b[1;31m---------------------------------------------------------------------------\u001b[0m",
      "\u001b[1;31mTypeError\u001b[0m                                 Traceback (most recent call last)",
      "\u001b[1;32mc:\\Users\\tioua\\OneDrive\\Desktop\\BI PROJECT\\DataTransformation\\IsraeliSettlements_Inhabitants_Transformation\\NumberOfIsraeliSettlements_Transformation\\PythonCode\\auto.ipynb Cell 3\u001b[0m line \u001b[0;36m1\n\u001b[1;32m----> <a href='vscode-notebook-cell:/c%3A/Users/tioua/OneDrive/Desktop/BI%20PROJECT/DataTransformation/IsraeliSettlements_Inhabitants_Transformation/NumberOfIsraeliSettlements_Transformation/PythonCode/auto.ipynb#X10sZmlsZQ%3D%3D?line=0'>1</a>\u001b[0m years \u001b[39m=\u001b[39m get_years()[\u001b[39m\"\u001b[39;49m\u001b[39mYears\u001b[39;49m\u001b[39m\"\u001b[39;49m]\n",
      "\u001b[1;31mTypeError\u001b[0m: 'NoneType' object is not subscriptable"
     ]
    }
   ],
   "source": [
    "years = get_years()[\"Years\"]"
   ]
  },
  {
   "cell_type": "code",
   "execution_count": 29,
   "metadata": {},
   "outputs": [],
   "source": [
    "def get_token(year):\n",
    "    try:\n",
    "        headers = {\n",
    "            \"Content-Type\": \"application/x-www-form-urlencoded\",\n",
    "        }\n",
    "\n",
    "        data = {\n",
    "            \"mode\": \"excel\",\n",
    "            \"drillDownMode\": \"undefined\",\n",
    "            \"board\": \"WebPartYishuvim\",\n",
    "            \"query\": '{\"mode\":\"GridData\",\"dataMode\":\"Yeshuv\",\"subject\":\"Population\",\"filters\":{\"Years\":'+str(year)+'},\"filtersearch\":\"\",\"pageNumber\":1,\"search\":\"\",\"language\":\"English\"}',\n",
    "            \"filters\": \"\",\n",
    "            \"cartDataImage\": \"\",\n",
    "            \"cartDataImageOnly\": \"undefined\",\n",
    "            \"lang\": \"English\",\n",
    "        }\n",
    "\n",
    "        token_response = requests.post(\"https://boardsgenerator.cbs.gov.il/Handlers/General/ExportData.ashx\", headers=headers, data=data)\n",
    "\n",
    "        # Check the response\n",
    "        if token_response.status_code == 200:\n",
    "            return token_response.text\n",
    "        else:\n",
    "            return None\n",
    "    except : \n",
    "        print(\"Token Error\")"
   ]
  },
  {
   "cell_type": "code",
   "execution_count": 43,
   "metadata": {},
   "outputs": [],
   "source": [
    "def automateExtractionData(year):\n",
    "    try:\n",
    "        headers = {'User-Agent': 'Mozilla/5.0 (Windows NT 10.0; Win64; x64; rv:120.0) Gecko/20100101 Firefox/120.0'}\n",
    "        download_response  = requests.get('https://boardsgenerator.cbs.gov.il/Handlers/General/Downloader.ashx?type=excel&token='+get_token(year), headers=headers)\n",
    "        \n",
    "        if download_response.status_code == 200:\n",
    "            # Save the downloaded file\n",
    "            new_location = \"C:\\\\Users\\\\tioua\\\\OneDrive\\\\Desktop\\\\BI PROJECT\\\\Data\\\\NumberOfInhabitants\"\n",
    "            with open(f'data_{year}.xlsx', 'wb') as file:\n",
    "                    shutil.move(file.write(download_response.content), new_location)\n",
    "            print(f'Data for year {year} downloaded successfully')\n",
    "        else:\n",
    "            print(f'Failed to download data for year {year}')\n",
    "    except :\n",
    "        print(\"Extraction Error\")"
   ]
  },
  {
   "cell_type": "code",
   "execution_count": 45,
   "metadata": {},
   "outputs": [
    {
     "name": "stdout",
     "output_type": "stream",
     "text": [
      "Token Error\n",
      "Extraction Error\n"
     ]
    }
   ],
   "source": [
    "automateExtractionData(2021)"
   ]
  },
  {
   "cell_type": "code",
   "execution_count": 41,
   "metadata": {},
   "outputs": [
    {
     "name": "stdout",
     "output_type": "stream",
     "text": [
      "Data for year 2021 downloaded successfully\n",
      "Data for year 2020 downloaded successfully\n",
      "Data for year 2019 downloaded successfully\n",
      "Data for year 2018 downloaded successfully\n",
      "Data for year 2017 downloaded successfully\n",
      "Data for year 2016 downloaded successfully\n",
      "Data for year 2015 downloaded successfully\n",
      "Data for year 2014 downloaded successfully\n",
      "Data for year 2013 downloaded successfully\n",
      "Data for year 2012 downloaded successfully\n",
      "Data for year 2011 downloaded successfully\n",
      "Data for year 2010 downloaded successfully\n",
      "Data for year 2009 downloaded successfully\n"
     ]
    }
   ],
   "source": [
    "#Or using parallele function\n",
    "for year in [2021,2020]:\n",
    "    automateExtractionData(year)\n",
    "    time.sleep(2) "
   ]
  }
 ],
 "metadata": {
  "kernelspec": {
   "display_name": "Python 3",
   "language": "python",
   "name": "python3"
  },
  "language_info": {
   "codemirror_mode": {
    "name": "ipython",
    "version": 3
   },
   "file_extension": ".py",
   "mimetype": "text/x-python",
   "name": "python",
   "nbconvert_exporter": "python",
   "pygments_lexer": "ipython3",
   "version": "3.11.5"
  }
 },
 "nbformat": 4,
 "nbformat_minor": 2
}

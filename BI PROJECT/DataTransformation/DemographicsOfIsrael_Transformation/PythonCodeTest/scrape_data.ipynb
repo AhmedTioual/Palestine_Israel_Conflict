{
 "cells": [
  {
   "cell_type": "code",
   "execution_count": 46,
   "metadata": {},
   "outputs": [],
   "source": [
    "import requests\n",
    "from bs4 import BeautifulSoup\n",
    "import pandas as pd"
   ]
  },
  {
   "cell_type": "code",
   "execution_count": 50,
   "metadata": {},
   "outputs": [],
   "source": [
    "try:\n",
    "    # Send a GET request to the URL\n",
    "    headers = {'User-Agent': 'Mozilla/5.0 (Windows NT 10.0; Win64; x64; rv:120.0) Gecko/20100101 Firefox/120.0'}\n",
    "    response = requests.get(\"https://www.macrotrends.net/countries/ISR/israel/population\",headers=headers)\n",
    "\n",
    "    # Check if the request was successful (status code 200)\n",
    "    if response.status_code == 200:\n",
    "        # Parse the HTML content of the page\n",
    "        soup = BeautifulSoup(response.text, 'html.parser')\n",
    "\n",
    "        # Find all <tr> tags\n",
    "        table = soup.find('div', {'class': 'col-xs-6'})\n",
    "\n",
    "    # Check if the table is found\n",
    "        if table:\n",
    "            # Extract data from the table\n",
    "            rows = table.find_all('tr')\n",
    "\n",
    "            # Extract data from individual cells within the rows\n",
    "            data = []\n",
    "            for row in rows:\n",
    "                cells = row.find_all(['td', 'th'])\n",
    "                row_data = [cell.get_text(strip=True) for cell in cells]\n",
    "                data.append(row_data)\n",
    "            \n",
    "            # Convert the list of lists into a Pandas DataFrame\n",
    "            df = pd.DataFrame(data[1:], columns=['Year','Population','GrowthRate'])\n",
    "            df = df.iloc[1:]\n",
    "            df.to_excel(\"C:\\\\Users\\\\tioua\\\\OneDrive\\\\Desktop\\\\BI PROJECT\\\\Data\\\\IsraelPopulation\\\\population.xlsx\",index=False)\n",
    "        else:\n",
    "            print(\"Table not found with the specified class.\")\n",
    "            status = False\n",
    "    else:\n",
    "        print(f\"Failed to retrieve the webpage. Status code: {response.status_code}\")\n",
    "    status = True\n",
    "except :\n",
    "    status = False"
   ]
  },
  {
   "cell_type": "code",
   "execution_count": 48,
   "metadata": {},
   "outputs": [],
   "source": []
  },
  {
   "cell_type": "code",
   "execution_count": 49,
   "metadata": {},
   "outputs": [],
   "source": []
  },
  {
   "cell_type": "code",
   "execution_count": null,
   "metadata": {},
   "outputs": [],
   "source": [
    "True"
   ]
  }
 ],
 "metadata": {
  "kernelspec": {
   "display_name": "Python 3",
   "language": "python",
   "name": "python3"
  },
  "language_info": {
   "codemirror_mode": {
    "name": "ipython",
    "version": 3
   },
   "file_extension": ".py",
   "mimetype": "text/x-python",
   "name": "python",
   "nbconvert_exporter": "python",
   "pygments_lexer": "ipython3",
   "version": "3.11.5"
  }
 },
 "nbformat": 4,
 "nbformat_minor": 2
}

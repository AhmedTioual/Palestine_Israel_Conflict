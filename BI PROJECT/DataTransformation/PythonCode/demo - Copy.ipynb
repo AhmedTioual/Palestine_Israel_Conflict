{
 "cells": [
  {
   "cell_type": "code",
   "execution_count": 14,
   "metadata": {},
   "outputs": [],
   "source": [
    "from selenium import webdriver\n",
    "from selenium.webdriver.common.by import By\n",
    "from selenium.webdriver.support.ui import WebDriverWait\n",
    "from selenium.webdriver.support import expected_conditions as EC\n",
    "import os\n",
    "import shutil\n",
    "import time\n",
    "import pandas as pd"
   ]
  },
  {
   "cell_type": "code",
   "execution_count": 2,
   "metadata": {},
   "outputs": [],
   "source": [
    "def wait_for_files(directory_path, timeout=30, poll_interval=1):\n",
    "    end_time = time.time() + timeout\n",
    "\n",
    "    while time.time() < end_time:\n",
    "        if any(os.listdir(directory_path)):\n",
    "            return True  # Files found, exit the loop\n",
    "        time.sleep(poll_interval)\n",
    "\n",
    "    return False  # Timeout reached without finding files"
   ]
  },
  {
   "cell_type": "code",
   "execution_count": 3,
   "metadata": {},
   "outputs": [],
   "source": [
    "def getNameFromUrl(strUrl) :\n",
    "    # Find the indices of the start and end substrings\n",
    "    start_index = strUrl.find(\"by-date-of-incident/\") + len(\"by-date-of-incident/\")\n",
    "    end_index = strUrl.find(\"/all?section=overall\")\n",
    "\n",
    "    # Extract the substring between start and end indices\n",
    "    extracted_string = strUrl[start_index:end_index]\n",
    "\n",
    "    return extracted_string+\".xlsx\""
   ]
  },
  {
   "cell_type": "code",
   "execution_count": 4,
   "metadata": {},
   "outputs": [],
   "source": [
    "def rename_file(direcotry_name_source,download_path_source,url):\n",
    "    try:\n",
    "        '''files = os.listdir(direcotry_name_source)\n",
    "        old_filename = os.path.join(direcotry_name_source, files[0])'''\n",
    "        new_filename = os.path.join(direcotry_name_source, getNameFromUrl(url))\n",
    "        os.rename(download_path_source, new_filename)\n",
    "        #print(f\"File renamed successfully to {getNameFromUrl(url)}\")\n",
    "    except Exception as e:\n",
    "        print(f\"Error renaming the file: {e}\")"
   ]
  },
  {
   "cell_type": "code",
   "execution_count": 20,
   "metadata": {},
   "outputs": [],
   "source": [
    "def automateExtractionData(url):\n",
    "    # Set up WebDriver (you may need to download the appropriate driver for your browser)\n",
    "    options = webdriver.FirefoxOptions()\n",
    "    driver = webdriver.Firefox(options=options)\n",
    "\n",
    "    # Open the website\n",
    "    driver.get(url) \n",
    "    button = WebDriverWait(driver, 40).until(EC.presence_of_element_located((By.XPATH, \"/html/body/div/div/div/div/main/div/div/div/div/div/div/div[3]/div[2]/div/div/div/div/div/div/div[3]/div/div/div[2]/div[1]/div/div/button[1]\")))\n",
    "    button.click()\n",
    "\n",
    "    if wait_for_files(\"C:\\\\Users\\\\tioua\\\\Downloads\"):\n",
    "        print(\"Files found! Proceeding with the code...\")\n",
    "\n",
    "        download_path = \"C:\\\\Users\\\\tioua\\\\Downloads\"  # Replace with your desired directory\n",
    "        files = os.listdir(download_path) \n",
    "\n",
    "        # Assuming only one file is downloaded, you can get its name\n",
    "        downloaded_file = os.path.join(download_path, files[0])\n",
    "        global file_name\n",
    "        file_name = downloaded_file\n",
    "        driver.quit()\n",
    "    else:\n",
    "        print(\"Timeout reached. No files found in the specified directory.\")"
   ]
  },
  {
   "cell_type": "code",
   "execution_count": 79,
   "metadata": {},
   "outputs": [
    {
     "name": "stdout",
     "output_type": "stream",
     "text": [
      "Files found! Proceeding with the code.\n"
     ]
    }
   ],
   "source": [
    "# Set up WebDriver (you may need to download the appropriate driver for your browser)\n",
    "options = webdriver.FirefoxOptions()\n",
    "driver = webdriver.Firefox(options=options)\n",
    "\n",
    "# Open the website\n",
    "driver.get(\"https://statistics.btselem.org/en/all-fatalities/by-date-of-incident/pal-by-israel-sec/all?section=overall&tab=overview\") \n",
    "button = WebDriverWait(driver, 40).until(EC.presence_of_element_located((By.XPATH, \"/html/body/div/div/div/div/main/div/div/div/div/div/div/div[3]/div[2]/div/div/div/div/div/div/div[3]/div/div/div[2]/div[1]/div/div/button[1]\")))\n",
    "button.click()\n",
    "\n",
    "if wait_for_files(\"C:\\\\Users\\\\tioua\\\\Downloads\"):\n",
    "    print(\"Files found! Proceeding with the code.\")\n",
    "    download_path = \"C:\\\\Users\\\\tioua\\\\Downloads\"  # Replace with your desired directory\n",
    "\n",
    "    files = os.listdir(download_path)\n",
    "\n",
    "    # Assuming only one file is downloaded, you can get its name\n",
    "    downloaded_file = os.path.join(download_path, files[0])\n",
    "\n",
    "    #   Move the file to your project directory\n",
    "    new_location = \"C:\\\\Users\\\\tioua\\\\OneDrive\\\\Desktop\\\\BI PROJECT\\\\DataSources\"\n",
    "    \n",
    "    shutil.move(downloaded_file, new_location)\n",
    "    # Close the WebDriver\n",
    "    driver.quit()\n",
    "else:\n",
    "    print(\"Timeout reached. No files found in the specified directory.\")"
   ]
  },
  {
   "cell_type": "code",
   "execution_count": 21,
   "metadata": {},
   "outputs": [
    {
     "name": "stdout",
     "output_type": "stream",
     "text": [
      "Files found! Proceeding with the code...\n",
      "C:\\Users\\tioua\\Downloads\\data.xlsx\n"
     ]
    }
   ],
   "source": [
    "try:\n",
    "    automateExtractionData(\"https://statistics.btselem.org/en/all-fatalities/by-date-of-incident/pal-by-israel-sec/all?section=overall\")\n",
    "    print(file_name)\n",
    "except : \n",
    "    print(\"false\")"
   ]
  }
 ],
 "metadata": {
  "kernelspec": {
   "display_name": "Python 3",
   "language": "python",
   "name": "python3"
  },
  "language_info": {
   "codemirror_mode": {
    "name": "ipython",
    "version": 3
   },
   "file_extension": ".py",
   "mimetype": "text/x-python",
   "name": "python",
   "nbconvert_exporter": "python",
   "pygments_lexer": "ipython3",
   "version": "3.11.5"
  }
 },
 "nbformat": 4,
 "nbformat_minor": 2
}

{
 "cells": [
  {
   "cell_type": "code",
   "execution_count": 52,
   "metadata": {},
   "outputs": [],
   "source": [
    "import requests\n",
    "import time\n",
    "import os\n",
    "import io\n",
    "import pandas as pd\n",
    "from concurrent.futures import ThreadPoolExecutor, as_completed\n",
    "from threading import Lock"
   ]
  },
  {
   "cell_type": "code",
   "execution_count": 116,
   "metadata": {},
   "outputs": [],
   "source": [
    "def process_Settlements_data(data,year):\n",
    "    data = pd.read_excel(data,skiprows=10)\n",
    "    data = data[['Locality Code','Locality name\\n\\n','District']]\n",
    "    data.columns = ['Settlement_ID','Settlement_Name','District_Name']\n",
    "    data[\"year\"] = year\n",
    "    return data"
   ]
  },
  {
   "cell_type": "code",
   "execution_count": 117,
   "metadata": {},
   "outputs": [
    {
     "name": "stdout",
     "output_type": "stream",
     "text": [
      "[1995, 1996, 1997, 1998, 1999, 2000, 2001, 2002, 2003, 2004, 2005, 2006, 2007, 2008, 2009, 2010, 2011, 2012, 2013, 2014, 2015, 2016, 2017, 2018, 2019, 2020, 2021, 2022]\n"
     ]
    }
   ],
   "source": [
    "def get_years():\n",
    "    try:\n",
    "        # Sending POST request\n",
    "        response = requests.post(\"https://boardsgenerator.cbs.gov.il/Handlers/WebParts/YishuvimHandler.ashx?dataMode=Yeshuv&language=English&mode=Filters&subject=BaseData\")\n",
    "\n",
    "        # Check if the request was successful (status code 200)\n",
    "        if response.status_code == 200:\n",
    "            # Parse and return the JSON response\n",
    "            return response.json()\n",
    "        else:\n",
    "            print(f\"Error: {response.status_code} - {response.text}\")\n",
    "            return False\n",
    "\n",
    "    except requests.RequestException as e:\n",
    "        print(f\"Request error: {e}\")\n",
    "        return False\n",
    "\n",
    "#getting years from json file     \n",
    "years = get_years()[\"Years\"]\n",
    "years.reverse()\n",
    "print(years)"
   ]
  },
  {
   "cell_type": "code",
   "execution_count": 139,
   "metadata": {},
   "outputs": [],
   "source": [
    "def get_token(year,max_retries=5): \n",
    "    try:\n",
    "        for retry_count in range(max_retries):\n",
    "                headers = {\n",
    "                        \"Content-Type\": \"application/x-www-form-urlencoded\",\n",
    "                }\n",
    "                data = {\n",
    "                        \"mode\": \"excel\",\n",
    "                        \"drillDownMode\": \"undefined\",\n",
    "                        \"board\": \"WebPartYishuvim\",\n",
    "                        \"query\": '{\"mode\":\"GridData\",\"dataMode\":\"Yeshuv\",\"subject\":\"BaseData\",\"filters\":{\"Years\":'+str(year)+'},\"filtersearch\":\"\",\"pageNumber\":1,\"search\":\"\",\"language\":\"English\"}',\n",
    "                        \"filters\": \"\",\n",
    "                        \"cartDataImage\": \"\",\n",
    "                        \"cartDataImageOnly\": \"undefined\",\n",
    "                        \"lang\": \"English\",\n",
    "                }\n",
    "                token_response = requests.post(\"https://boardsgenerator.cbs.gov.il/Handlers/General/ExportData.ashx\", headers=headers, data=data)\n",
    "                # Check the response\n",
    "                if token_response.status_code == 200:\n",
    "                        return token_response.text\n",
    "                else:\n",
    "                        print(f'Failed to get token for year {year}. Retrying...')\n",
    "                        time.sleep(1)\n",
    "    except Exception as e: \n",
    "        print(f'Token Error {e}')"
   ]
  },
  {
   "cell_type": "code",
   "execution_count": 166,
   "metadata": {},
   "outputs": [
    {
     "data": {
      "text/plain": [
       "'70005eb7-afbf-4de5-b2d1-fa9e4461bdf8'"
      ]
     },
     "execution_count": 166,
     "metadata": {},
     "output_type": "execute_result"
    }
   ],
   "source": [
    "get_token(2022)"
   ]
  },
  {
   "cell_type": "code",
   "execution_count": 157,
   "metadata": {},
   "outputs": [],
   "source": [
    "def get_file_size(file_content): return len(file_content.content) / 1024"
   ]
  },
  {
   "cell_type": "code",
   "execution_count": 168,
   "metadata": {},
   "outputs": [],
   "source": [
    "def automateExtractionData(year, max_retries=10):\n",
    "    try:\n",
    "        headers = {'User-Agent': 'Mozilla/5.0 (Windows NT 10.0; Win64; x64; rv:120.0) Gecko/20100101 Firefox/120.0'}\n",
    "        \n",
    "        # Retry the request up to max_retries times\n",
    "        for retry_count in range(max_retries):\n",
    "            download_response = requests.get('https://boardsgenerator.cbs.gov.il/Handlers/General/Downloader.ashx?type=excel&token='+get_token(year), headers=headers)\n",
    "            if download_response.status_code == 200 and download_response.content and get_file_size(download_response) > 3:\n",
    "                #result = pd.concat([result, process_Settlements_data(io.BytesIO(download_response.content), year)], ignore_index=True)\n",
    "                data_result = process_Settlements_data(io.BytesIO(download_response.content), year)\n",
    "                return True, year,data_result\n",
    "            else:\n",
    "                #print(f'Failed to download data for year {year}. Retrying...')\n",
    "                time.sleep(2)  # Add a short delay before retrying\n",
    "\n",
    "        print(f'Exceeded maximum retry attempts for year {year}.')\n",
    "        return False, year,\"Null\"\n",
    "\n",
    "    except Exception as e:\n",
    "        print(f'Extraction Error: {e}')\n",
    "        return False, year\n"
   ]
  },
  {
   "cell_type": "code",
   "execution_count": 169,
   "metadata": {},
   "outputs": [],
   "source": [
    "result = pd.DataFrame()\n",
    "def automateExtractionData_parallel(year_start, year_end):\n",
    "    global result\n",
    "    try:\n",
    "        with ThreadPoolExecutor(max_workers=30) as executor:\n",
    "            # Use list comprehension to submit tasks to the ThreadPoolExecutor\n",
    "            tasks = [executor.submit(automateExtractionData, year) for year in range(year_start,year_end+1)]\n",
    "            \n",
    "            # Collect results\n",
    "            results = [task.result() for task in as_completed(tasks)]\n",
    "\n",
    "            # Iterate through results and print a summary\n",
    "            for success, year_result,data_result in results:\n",
    "                if success:\n",
    "                    print(f'Data for year {year_result} downloaded successfully')\n",
    "                    result = pd.concat([result, data_result], ignore_index=True)\n",
    "                else:\n",
    "                    print(f'Failed to download data for year {year_result}')\n",
    "\n",
    "            #Save Result data frame in a single file \n",
    "            result.sort_values(by='year', ascending=True,inplace=True)     \n",
    "            result.to_excel(\"C:\\\\Users\\\\tioua\\\\OneDrive\\\\Desktop\\\\BI PROJECT\\\\Data\\\\IsraeliSettlements\\\\IsraeliSettlements_Data.xlsx\", index=False)\n",
    "    except Exception as e:\n",
    "        print(f\"Error: {e}\")\n"
   ]
  },
  {
   "cell_type": "code",
   "execution_count": 170,
   "metadata": {},
   "outputs": [],
   "source": [
    "automateExtractionData_parallel(years[0],years[len(years)-1])"
   ]
  }
 ],
 "metadata": {
  "kernelspec": {
   "display_name": "Python 3",
   "language": "python",
   "name": "python3"
  },
  "language_info": {
   "codemirror_mode": {
    "name": "ipython",
    "version": 3
   },
   "file_extension": ".py",
   "mimetype": "text/x-python",
   "name": "python",
   "nbconvert_exporter": "python",
   "pygments_lexer": "ipython3",
   "version": "3.11.5"
  }
 },
 "nbformat": 4,
 "nbformat_minor": 2
}

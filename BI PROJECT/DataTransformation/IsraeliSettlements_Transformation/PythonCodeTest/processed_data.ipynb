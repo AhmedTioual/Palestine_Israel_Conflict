{
 "cells": [
  {
   "cell_type": "code",
   "execution_count": 3,
   "metadata": {},
   "outputs": [],
   "source": [
    "import pandas as pd\n",
    "import os\n",
    "import re\n",
    "from multiprocessing import Pool"
   ]
  },
  {
   "cell_type": "code",
   "execution_count": 4,
   "metadata": {},
   "outputs": [],
   "source": [
    "def process_Settlements_data(file_path,year):\n",
    "    data = pd.read_excel(file_path,skiprows=10)\n",
    "    data = data[['Locality Code','Locality name\\n\\n','District']]\n",
    "    data.columns = ['Settlement_ID','Settlement_Name','District_Name']\n",
    "    data[\"year\"] = year\n",
    "    return data"
   ]
  },
  {
   "cell_type": "code",
   "execution_count": 5,
   "metadata": {},
   "outputs": [],
   "source": [
    "def save_to_excel(file=\"C:\\\\Users\\\\tioua\\\\OneDrive\\\\Desktop\\\\BI PROJECT\\\\Data\\\\IsraeliSettlements\\\\IsraeliSettlements_Data.xlsx\", data_frame=\"\"):\n",
    "    try:\n",
    "        # Check if the file exists\n",
    "        if os.path.exists(file):\n",
    "            # Load existing Excel file\n",
    "            existing_df = pd.read_excel(file)\n",
    "\n",
    "            # Append new data frame to the existing data\n",
    "            updated_df = pd.concat([existing_df, data_frame], ignore_index=True)\n",
    "        else:\n",
    "            # If the file doesn't exist, use the new data frame\n",
    "            updated_df = data_frame\n",
    "\n",
    "        # Save the updated data frame back to the Excel file\n",
    "        updated_df.to_excel(file, index=False)\n",
    "        print(\"Data appended successfully.\")\n",
    "\n",
    "    except Exception as e:\n",
    "        print(f\"Error: {e}\")"
   ]
  },
  {
   "cell_type": "code",
   "execution_count": 6,
   "metadata": {},
   "outputs": [],
   "source": [
    "def process_file(file):\n",
    "    file_path = os.path.join(\"C:\\\\Users\\\\tioua\\\\OneDrive\\\\Desktop\\\\BI PROJECT\\\\Data\\\\IsraeliSettlements\", file)\n",
    "    year = int(re.search(r'\\d{4}', file).group())\n",
    "    data_frame = process_Settlements_data(file_path, year)\n",
    "    save_to_excel(data_frame)"
   ]
  },
  {
   "cell_type": "code",
   "execution_count": 10,
   "metadata": {},
   "outputs": [],
   "source": [
    "def append_all_excel_files(data_directory, output_file, num_processes=5):\n",
    "    files = os.listdir(data_directory)\n",
    "    \n",
    "    with Pool(processes=num_processes) as pool:\n",
    "        pool.map(process_file, files)"
   ]
  },
  {
   "cell_type": "code",
   "execution_count": null,
   "metadata": {},
   "outputs": [],
   "source": [
    "data_directory = \"C:\\\\Users\\\\tioua\\\\OneDrive\\\\Desktop\\\\BI PROJECT\\\\Data\\\\IsraeliSettlements\"\n",
    "output_file = \"C:\\\\Users\\\\tioua\\\\OneDrive\\\\Desktop\\\\BI PROJECT\\\\Data\\\\IsraeliSettlements\\\\IsraeliSettlements_Data.xlsx\"\n",
    "append_all_excel_files(data_directory, output_file)"
   ]
  },
  {
   "cell_type": "code",
   "execution_count": null,
   "metadata": {},
   "outputs": [],
   "source": [
    "def save_to_excel(file, data_frame):\n",
    "    try:\n",
    "        if os.path.exists(file):\n",
    "            existing_df = pd.read_excel(file)\n",
    "            updated_df = pd.concat([existing_df, data_frame], ignore_index=True)\n",
    "        else:\n",
    "            updated_df = data_frame\n",
    "\n",
    "        updated_df.to_excel(file, index=False)\n",
    "        print(f\"Data from {file} appended successfully.\")\n",
    "\n",
    "    except Exception as e:\n",
    "        print(f\"Error: {e}\")\n",
    "\n",
    "def process_Settlements_data(file_path, year):\n",
    "    data = pd.read_excel(file_path, skiprows=10)\n",
    "    data = data[['Locality Code', 'Locality name\\n\\n', 'District']]\n",
    "    data.columns = ['Settlement_ID', 'Settlement_Name', 'District_Name']\n",
    "    data[\"year\"] = year\n",
    "    return data\n",
    "\n",
    "def process_file(file):\n",
    "    file_path = os.path.join(data_directory, file)\n",
    "    year = int(re.search(r'\\d{4}', file).group())\n",
    "    data_frame = process_Settlements_data(file_path, year)\n",
    "    save_to_excel(output_file, data_frame)\n",
    "\n",
    "def append_all_excel_files(data_directory, output_file, num_processes=5):\n",
    "    files = os.listdir(data_directory)\n",
    "\n",
    "    with Pool(processes=num_processes) as pool:\n",
    "        pool.map(process_file, files)\n",
    "\n",
    "if __name__ == \"__main__\":\n",
    "    data_directory = \"C:\\\\Users\\\\tioua\\\\OneDrive\\\\Desktop\\\\BI PROJECT\\\\Data\\\\IsraeliSettlements\"\n",
    "    output_file = \"C:\\\\Users\\\\tioua\\\\OneDrive\\\\Desktop\\\\BI PROJECT\\\\Data\\\\IsraeliSettlements\\\\IsraeliSettlements_Data.xlsx\"\n",
    "    append_all_excel_files(data_directory, output_file)"
   ]
  }
 ],
 "metadata": {
  "kernelspec": {
   "display_name": "Python 3",
   "language": "python",
   "name": "python3"
  },
  "language_info": {
   "codemirror_mode": {
    "name": "ipython",
    "version": 3
   },
   "file_extension": ".py",
   "mimetype": "text/x-python",
   "name": "python",
   "nbconvert_exporter": "python",
   "pygments_lexer": "ipython3",
   "version": "3.11.5"
  }
 },
 "nbformat": 4,
 "nbformat_minor": 2
}

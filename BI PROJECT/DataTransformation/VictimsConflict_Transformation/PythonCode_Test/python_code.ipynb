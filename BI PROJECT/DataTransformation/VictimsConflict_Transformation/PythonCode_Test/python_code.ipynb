{
 "cells": [
  {
   "cell_type": "code",
   "execution_count": 1,
   "metadata": {},
   "outputs": [],
   "source": [
    "import requests\n",
    "from concurrent.futures import ThreadPoolExecutor, as_completed\n",
    "import time"
   ]
  },
  {
   "cell_type": "code",
   "execution_count": 6,
   "metadata": {},
   "outputs": [],
   "source": [
    "def getNameFromUrl(strUrl) :\n",
    "    # Find the indices of the start and end substrings\n",
    "    start_index = strUrl.find(\"by-date-of-incident/\") + len(\"by-date-of-incident/\")\n",
    "    end_index = strUrl.find(\"/all?section=overall\")\n",
    "\n",
    "    # Extract the substring between start and end indices\n",
    "    extracted_string = strUrl[start_index:end_index]\n",
    "\n",
    "    return extracted_string+\".xlsx\""
   ]
  },
  {
   "cell_type": "code",
   "execution_count": 9,
   "metadata": {},
   "outputs": [],
   "source": [
    "def automateExtractionData(url,payload):\n",
    "    payload = payload \n",
    "    headers = {\n",
    "        \"Accept\": \"application/json, text/plain, */*\",\n",
    "        \"Accept-Encoding\": \"gzip, deflate, br\",\n",
    "        \"Accept-Language\": \"en-US,en;q=0.5\",\n",
    "        \"Connection\": \"keep-alive\",\n",
    "        \"Content-Length\": \"451\",\n",
    "        \"Content-Type\": \"application/json\",\n",
    "        \"Cookie\": \"deflect_challenge3=JSa+O9xGLjM7TJb4NWQ0Wc3YmwYAAAAAAAAAAAAAAAAAAAAAAAAAAAAAAAAAAAAAAAABJwAAAABlc/i/; deflect_session=sSA%2FxHmWe58AAAAAZXOWTw%3D%3D\",\n",
    "        \"Host\": \"statistics.btselem.org\",\n",
    "        \"Origin\": \"https://statistics.btselem.org\",\n",
    "        \"Referer\": url,\n",
    "        \"Sec-Fetch-Dest\": \"empty\",\n",
    "        \"Sec-Fetch-Mode\": \"cors\",\n",
    "        \"Sec-Fetch-Site\": \"same-origin\",\n",
    "        \"TE\": \"trailers\",\n",
    "        \"User-Agent\": \"Mozilla/5.0 (Windows NT 10.0; Win64; x64; rv:120.0) Gecko/20100101 Firefox/120.0\",\n",
    "    }\n",
    "\n",
    "    response = requests.post(\"https://statistics.btselem.org/php/download.php?lang=en\", json=payload, headers=headers)\n",
    "\n",
    "    # Check if the request was successful (status code 200)\n",
    "    if response.status_code == 200:\n",
    "        # Save the response content to a file (assuming it's an XLSX file)\n",
    "        new_location = \"C:\\\\Users\\\\tioua\\\\OneDrive\\\\Desktop\\\\BI PROJECT\\\\Data\\\\NumberOfDeaths\\\\\"+getNameFromUrl(url)\n",
    "        with open(new_location, \"wb\") as f:\n",
    "            f.write(response.content)\n",
    "        print(\"File downloaded successfully.\")\n",
    "    else:\n",
    "        print(f\"Failed to download file. Status code: {response.status_code}\")\n"
   ]
  },
  {
   "cell_type": "code",
   "execution_count": 12,
   "metadata": {},
   "outputs": [],
   "source": [
    "pages = {\n",
    "    \"https://statistics.btselem.org/en/all-fatalities/by-date-of-incident/pal-by-israel-sec/all?section=overall\" : {\"query\":{\"bool\":{\"must\":[{\"bool\":{\"must\":[{\"range\":{\"EventDate\":{\"gte\":970185600000,\"lte\":1696633199000}}},{\"bool\":{\"filter\":{\"term\":{\"not_inc\":True}}}},{\"bool\":{\"must\":[{\"terms\":{\"EventRegionName.key.keyword\":[\"b40f813\",\"5f6a04e\",\"65b3a57\"]}},{\"terms\":{\"tot_nifga_kibuz.key.keyword\":[\"75c9ac7\"]}},{\"terms\":{\"tot_pogea_kibuz.key.keyword\":[\"4d9ecf3\"]}},{\"term\":{\"not_inc\":True}}]}}]}}]}},\"sort\":[{\"EventDate\":{\"order\":\"desc\"}}],\"aggs\":{},\"size\":10000},\n",
    "    \"https://statistics.btselem.org/en/all-fatalities/by-date-of-incident/pal-by-israel-civ/all?section=overall\" : {\"query\":{\"bool\":{\"must\":[{\"bool\":{\"must\":[{\"range\":{\"EventDate\":{\"gte\":970185600000,\"lte\":1696633199000}}},{\"bool\":{\"filter\":{\"term\":{\"not_inc\":True}}}},{\"bool\":{\"must\":[{\"terms\":{\"EventRegionName.key.keyword\":[\"b40f813\",\"5f6a04e\",\"65b3a57\"]}},{\"terms\":{\"tot_nifga_kibuz.key.keyword\":[\"75c9ac7\"]}},{\"terms\":{\"tot_pogea_kibuz.key.keyword\":[\"a14a397\"]}},{\"term\":{\"not_inc\":True}}]}}]}}]}},\"sort\":[{\"EventDate\":{\"order\":\"desc\"}}],\"aggs\":{},\"size\":10000},\n",
    "    \"https://statistics.btselem.org/en/all-fatalities/by-date-of-incident/israel-civ-by-pal/all?section=overall\" : {\"query\":{\"bool\":{\"must\":[{\"bool\":{\"must\":[{\"range\":{\"EventDate\":{\"gte\":970185600000,\"lte\":1696633199000}}},{\"bool\":{\"filter\":{\"term\":{\"not_inc\":True}}}},{\"bool\":{\"must\":[{\"terms\":{\"EventRegionName.key.keyword\":[\"b40f813\",\"5f6a04e\",\"65b3a57\"]}},{\"terms\":{\"tot_nifga_kibuz.key.keyword\":[\"a14a397\"]}},{\"terms\":{\"tot_pogea_kibuz.key.keyword\":[\"75c9ac7\"]}},{\"term\":{\"not_inc\":True}}]}}]}}]}},\"sort\":[{\"EventDate\":{\"order\":\"desc\"}}],\"aggs\":{},\"size\":10000},\n",
    "    \"https://statistics.btselem.org/en/all-fatalities/by-date-of-incident/israel-sec-by-pal/all?section=overall\" : {\"query\":{\"bool\":{\"must\":[{\"bool\":{\"must\":[{\"range\":{\"EventDate\":{\"gte\":970185600000,\"lte\":1696633199000}}},{\"bool\":{\"filter\":{\"term\":{\"not_inc\":True}}}},{\"bool\":{\"must\":[{\"terms\":{\"EventRegionName.key.keyword\":[\"b40f813\",\"5f6a04e\",\"65b3a57\"]}},{\"terms\":{\"tot_nifga_kibuz.key.keyword\":[\"4d9ecf3\"]}},{\"terms\":{\"tot_pogea_kibuz.key.keyword\":[\"75c9ac7\"]}},{\"term\":{\"not_inc\":True}}]}}]}}]}},\"sort\":[{\"EventDate\":{\"order\":\"desc\"}}],\"aggs\":{},\"size\":10000},\n",
    "    \"https://statistics.btselem.org/en/all-fatalities/by-date-of-incident/pal-by-israel-un/all?section=overall\"  : {\"query\":{\"bool\":{\"must\":[{\"bool\":{\"must\":[{\"range\":{\"EventDate\":{\"gte\":970185600000,\"lte\":1696633199000}}},{\"bool\":{\"filter\":{\"term\":{\"not_inc\":True}}}},{\"bool\":{\"must\":[{\"terms\":{\"EventRegionName.key.keyword\":[\"b40f813\",\"5f6a04e\",\"65b3a57\"]}},{\"terms\":{\"tot_nifga_kibuz.key.keyword\":[\"75c9ac7\"]}},{\"terms\":{\"tot_pogea_kibuz.key.keyword\":[\"e91ad76\"]}},{\"term\":{\"not_inc\":True}}]}}]}}]}},\"sort\":[{\"EventDate\":{\"order\":\"desc\"}}],\"aggs\":{},\"size\":10000}\n",
    "}"
   ]
  },
  {
   "cell_type": "code",
   "execution_count": 8,
   "metadata": {},
   "outputs": [
    {
     "name": "stdout",
     "output_type": "stream",
     "text": [
      "File downloaded successfully.\n",
      "File downloaded successfully.\n",
      "File downloaded successfully.\n",
      "File downloaded successfully.\n",
      "File downloaded successfully.\n"
     ]
    }
   ],
   "source": [
    "for key,value in pages.items():\n",
    "    automateExtractionData(key, value)\n",
    "    time.sleep(2)"
   ]
  },
  {
   "cell_type": "code",
   "execution_count": 11,
   "metadata": {},
   "outputs": [],
   "source": [
    "def automateExtractionData_parallel(pages):\n",
    "    try:\n",
    "        with ThreadPoolExecutor(max_workers=4) as executor:\n",
    "            # Use list comprehension to submit tasks to the ThreadPoolExecutor\n",
    "            tasks = [executor.submit(automateExtractionData, key,value) for key,value in pages.items()]\n",
    "            \n",
    "            # Collect results\n",
    "            results = [task.result() for task in as_completed(tasks)]\n",
    "\n",
    "            # Iterate through results and print a summary\n",
    "            for success, year_result in results:\n",
    "                if success:\n",
    "                    print(f'Data for year {year_result} downloaded successfully')\n",
    "                else:\n",
    "                    print(f'Failed to download data for year {year_result}')\n",
    "\n",
    "    except Exception as e:\n",
    "        print(f\"Error: {e}\")"
   ]
  },
  {
   "cell_type": "code",
   "execution_count": 13,
   "metadata": {},
   "outputs": [
    {
     "name": "stdout",
     "output_type": "stream",
     "text": [
      "File downloaded successfully.\n",
      "File downloaded successfully.\n",
      "File downloaded successfully.\n",
      "File downloaded successfully.\n",
      "File downloaded successfully.\n",
      "Error: cannot unpack non-iterable NoneType object\n"
     ]
    }
   ],
   "source": [
    "automateExtractionData_parallel(pages)"
   ]
  }
 ],
 "metadata": {
  "kernelspec": {
   "display_name": "Python 3",
   "language": "python",
   "name": "python3"
  },
  "language_info": {
   "codemirror_mode": {
    "name": "ipython",
    "version": 3
   },
   "file_extension": ".py",
   "mimetype": "text/x-python",
   "name": "python",
   "nbconvert_exporter": "python",
   "pygments_lexer": "ipython3",
   "version": "3.11.5"
  }
 },
 "nbformat": 4,
 "nbformat_minor": 2
}
